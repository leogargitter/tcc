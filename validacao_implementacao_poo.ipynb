{
 "cells": [
  {
   "cell_type": "code",
   "execution_count": 1,
   "metadata": {},
   "outputs": [],
   "source": [
    "from mp_model import SystemData, ModelParameters, ComplexMatrix, LUT, RealMatrix, RealMatrixCoefsImag\n",
    "\n",
    "data = SystemData(\"data\\data_LDMOS.mat\", 'in_extraction', 'out_extraction', 'in_validation', 'out_validation')\n",
    "parameters = [ModelParameters(3,1,2),\n",
    "              ModelParameters(5,1,2),\n",
    "              ModelParameters(7,1,2),\n",
    "              ModelParameters(3,2,2),\n",
    "              ModelParameters(5,2,2),\n",
    "              ModelParameters(7,2,2)\n",
    "              ]"
   ]
  },
  {
   "cell_type": "code",
   "execution_count": 5,
   "metadata": {},
   "outputs": [
    {
     "name": "stdout",
     "output_type": "stream",
     "text": [
      "P = 3, M = 1, Q = 4\n",
      "Coefs calculated in: 0.005985260009765625 seconds\n",
      "Matrizes complexas - NMSE: -35.43668159034694\n",
      "Matrizes reais (coef imag.) - NMSE: -35.43559859514507\n"
     ]
    },
    {
     "ename": "LinAlgError",
     "evalue": "Incompatible dimensions",
     "output_type": "error",
     "traceback": [
      "\u001b[1;31m---------------------------------------------------------------------------\u001b[0m",
      "\u001b[1;31mLinAlgError\u001b[0m                               Traceback (most recent call last)",
      "Cell \u001b[1;32mIn[5], line 5\u001b[0m\n\u001b[0;32m      3\u001b[0m \u001b[39mprint\u001b[39m(\u001b[39mf\u001b[39m\u001b[39m\"\u001b[39m\u001b[39mMatrizes complexas - NMSE: \u001b[39m\u001b[39m{\u001b[39;00mComplexMatrix(parameters[i], data)\u001b[39m.\u001b[39mnmse\u001b[39m}\u001b[39;00m\u001b[39m\"\u001b[39m)\n\u001b[0;32m      4\u001b[0m \u001b[39mprint\u001b[39m(\u001b[39mf\u001b[39m\u001b[39m\"\u001b[39m\u001b[39mMatrizes reais (coef imag.) - NMSE: \u001b[39m\u001b[39m{\u001b[39;00mRealMatrixCoefsImag(parameters[i], data)\u001b[39m.\u001b[39mnmse\u001b[39m}\u001b[39;00m\u001b[39m\"\u001b[39m)\n\u001b[1;32m----> 5\u001b[0m \u001b[39mprint\u001b[39m(\u001b[39mf\u001b[39m\u001b[39m\"\u001b[39m\u001b[39mMatrizes reais (coef direto) - NMSE: \u001b[39m\u001b[39m{\u001b[39;00mRealMatrix(parameters[i], data)\u001b[39m.\u001b[39mnmse\u001b[39m}\u001b[39;00m\u001b[39m\"\u001b[39m)\n\u001b[0;32m      6\u001b[0m \u001b[39mprint\u001b[39m(\u001b[39mf\u001b[39m\u001b[39m\"\u001b[39m\u001b[39mLUT - NMSE: \u001b[39m\u001b[39m{\u001b[39;00mLUT(parameters[i], data)\u001b[39m.\u001b[39mnmse\u001b[39m}\u001b[39;00m\u001b[39m\"\u001b[39m)\n\u001b[0;32m      7\u001b[0m \u001b[39mprint\u001b[39m(\u001b[39m\"\u001b[39m\u001b[39m\\n\u001b[39;00m\u001b[39m\\n\u001b[39;00m\u001b[39m\"\u001b[39m)\n",
      "File \u001b[1;32mc:\\Users\\leoga\\Documents\\_Repositorios-git\\tcc\\mp_model\\models.py:192\u001b[0m, in \u001b[0;36mRealMatrix.__init__\u001b[1;34m(self, parameters, data)\u001b[0m\n\u001b[0;32m    190\u001b[0m \u001b[39mself\u001b[39m\u001b[39m.\u001b[39mmult1 \u001b[39m=\u001b[39m \u001b[39mself\u001b[39m\u001b[39m.\u001b[39m__mult1(\u001b[39mself\u001b[39m\u001b[39m.\u001b[39m__in_abs_real(in_extraction, polynomial_order), \u001b[39mself\u001b[39m\u001b[39m.\u001b[39m__x_mp_real(in_extraction, memory_order), memory_order, polynomial_order)\n\u001b[0;32m    191\u001b[0m \u001b[39mself\u001b[39m\u001b[39m.\u001b[39mout_ext \u001b[39m=\u001b[39m out_extraction[\u001b[39m0\u001b[39m:\u001b[39m-\u001b[39m\u001b[39m2\u001b[39m]\n\u001b[1;32m--> 192\u001b[0m coef_re \u001b[39m=\u001b[39m np\u001b[39m.\u001b[39;49mlinalg\u001b[39m.\u001b[39;49mlstsq(\u001b[39mself\u001b[39;49m\u001b[39m.\u001b[39;49mmult1, np\u001b[39m.\u001b[39;49mcolumn_stack((\u001b[39mself\u001b[39;49m\u001b[39m.\u001b[39;49mout_ext\u001b[39m.\u001b[39;49mreal, \u001b[39mself\u001b[39;49m\u001b[39m.\u001b[39;49mout_ext\u001b[39m.\u001b[39;49mimag)), rcond\u001b[39m=\u001b[39;49m\u001b[39m-\u001b[39;49m\u001b[39m1\u001b[39;49m)\n\u001b[0;32m    193\u001b[0m coef_re \u001b[39m=\u001b[39m coef_re[\u001b[39m0\u001b[39m]\n\u001b[0;32m    194\u001b[0m mult2_re \u001b[39m=\u001b[39m mult1_re\u001b[39m@coef_re\u001b[39m\n",
      "File \u001b[1;32m<__array_function__ internals>:180\u001b[0m, in \u001b[0;36mlstsq\u001b[1;34m(*args, **kwargs)\u001b[0m\n",
      "File \u001b[1;32mc:\\Users\\leoga\\Documents\\_Repositorios-git\\tcc\\env\\lib\\site-packages\\numpy\\linalg\\linalg.py:2271\u001b[0m, in \u001b[0;36mlstsq\u001b[1;34m(a, b, rcond)\u001b[0m\n\u001b[0;32m   2269\u001b[0m m2, n_rhs \u001b[39m=\u001b[39m b\u001b[39m.\u001b[39mshape[\u001b[39m-\u001b[39m\u001b[39m2\u001b[39m:]\n\u001b[0;32m   2270\u001b[0m \u001b[39mif\u001b[39;00m m \u001b[39m!=\u001b[39m m2:\n\u001b[1;32m-> 2271\u001b[0m     \u001b[39mraise\u001b[39;00m LinAlgError(\u001b[39m'\u001b[39m\u001b[39mIncompatible dimensions\u001b[39m\u001b[39m'\u001b[39m)\n\u001b[0;32m   2273\u001b[0m t, result_t \u001b[39m=\u001b[39m _commonType(a, b)\n\u001b[0;32m   2274\u001b[0m result_real_t \u001b[39m=\u001b[39m _realType(result_t)\n",
      "\u001b[1;31mLinAlgError\u001b[0m: Incompatible dimensions"
     ]
    }
   ],
   "source": [
    "for i in range(len(parameters)):\n",
    "    print(f\"P = {parameters[i].polynomial_order}, M = {parameters[i].memory_order}, Q = {parameters[i].Q}\")\n",
    "    print(f\"Matrizes complexas - NMSE: {ComplexMatrix(parameters[i], data).nmse}\")\n",
    "    print(f\"Matrizes reais (coef imag.) - NMSE: {RealMatrixCoefsImag(parameters[i], data).nmse}\")\n",
    "    print(f\"Matrizes reais (coef direto) - NMSE: {RealMatrix(parameters[i], data).nmse}\")\n",
    "    print(f\"LUT - NMSE: {LUT(parameters[i], data).nmse}\")\n",
    "    print(\"\\n\\n\")"
   ]
  },
  {
   "cell_type": "code",
   "execution_count": null,
   "metadata": {},
   "outputs": [],
   "source": [
    "complex_matrix_model = ComplexMatrix(parameters, data)\n",
    "real_matrix_model = RealMatrix(parameters, data)\n",
    "lut_model = LUT(parameters, data)"
   ]
  },
  {
   "cell_type": "code",
   "execution_count": null,
   "metadata": {},
   "outputs": [],
   "source": [
    "real_matrix_model.nmse"
   ]
  },
  {
   "cell_type": "code",
   "execution_count": null,
   "metadata": {},
   "outputs": [],
   "source": [
    "complex_matrix_model.nmse"
   ]
  },
  {
   "cell_type": "code",
   "execution_count": null,
   "metadata": {},
   "outputs": [],
   "source": [
    "import numpy as np\n",
    "\n",
    "coefs = np.linalg.lstsq(real_matrix_model.mult1, np.column_stack((real_matrix_model.out_ext.real, real_matrix_model.out_ext.imag)), rcond=-1)\n"
   ]
  },
  {
   "cell_type": "code",
   "execution_count": null,
   "metadata": {},
   "outputs": [],
   "source": [
    "coefs[0"
   ]
  },
  {
   "cell_type": "code",
   "execution_count": null,
   "metadata": {},
   "outputs": [],
   "source": [
    "out_ext = np.column_stack((real_matrix_model.out_ext.real, real_matrix_model.out_ext.imag))\n",
    "#out_ext = out_ext.reshape((out_ext.shape[1],out_ext.shape[0]))"
   ]
  },
  {
   "cell_type": "code",
   "execution_count": null,
   "metadata": {},
   "outputs": [],
   "source": [
    "out_ext"
   ]
  },
  {
   "cell_type": "code",
   "execution_count": null,
   "metadata": {},
   "outputs": [],
   "source": [
    "real_matrix_model.out_ext"
   ]
  },
  {
   "cell_type": "code",
   "execution_count": null,
   "metadata": {},
   "outputs": [],
   "source": [
    "import numpy as np\n",
    "test = np.linalg.lstsq(real_matrix_model.mult1_re, out_ext, rcond=-1)\n",
    "test2 = np.array([test[0].real, test[0].imag])\n",
    "test2 = test2.reshape((test2.shape[1],test2.shape[0]))"
   ]
  },
  {
   "cell_type": "code",
   "execution_count": null,
   "metadata": {},
   "outputs": [],
   "source": [
    "test2 = np.array([test[0].real, test[0].imag])\n",
    "test2 = test2.reshape((test2.shape[1],test2.shape[0]))"
   ]
  },
  {
   "cell_type": "code",
   "execution_count": null,
   "metadata": {},
   "outputs": [],
   "source": [
    "test2"
   ]
  },
  {
   "cell_type": "code",
   "execution_count": null,
   "metadata": {},
   "outputs": [],
   "source": [
    "test"
   ]
  },
  {
   "cell_type": "code",
   "execution_count": null,
   "metadata": {},
   "outputs": [],
   "source": [
    "real_matrix_model.coef_re.shape"
   ]
  },
  {
   "cell_type": "code",
   "execution_count": null,
   "metadata": {},
   "outputs": [],
   "source": [
    "x[0].shape"
   ]
  },
  {
   "cell_type": "code",
   "execution_count": null,
   "metadata": {},
   "outputs": [],
   "source": [
    "real_matrix_model.coef_re.shape"
   ]
  },
  {
   "cell_type": "code",
   "execution_count": null,
   "metadata": {},
   "outputs": [],
   "source": [
    "import numpy as np\n",
    "\n",
    "x = np.linalg.lstsq(real_matrix_model.in_real, real_matrix_model.x_real, rcond=-1)\n",
    "coefs = x[0].flatten()\n",
    "coefs_formatted = np.zeros((len(coefs),2))\n",
    "for i in range(len(coefs)):\n",
    "    coefs_formatted[i][0] = coefs[i]\n",
    "    if (i+1)%2 != 0:\n",
    "        coefs_formatted[i][1] =  - coefs[i+1]\n",
    "    else:\n",
    "        coefs_formatted[i][1] =  + coefs[i-1]"
   ]
  },
  {
   "cell_type": "code",
   "execution_count": null,
   "metadata": {},
   "outputs": [],
   "source": [
    "coefs_formatted = np.zeros((len(coefs),2))\n",
    "for i in range(len(coefs)):\n",
    "    coefs_formatted[i][0] = coefs[i]\n",
    "    if (i+1)%2 != 0:\n",
    "        coefs_formatted[i][1] =  - coefs[i+1]\n",
    "    else:\n",
    "        coefs_formatted[i][1] =  + coefs[i-1]"
   ]
  },
  {
   "cell_type": "code",
   "execution_count": null,
   "metadata": {},
   "outputs": [],
   "source": [
    "coefs_formatted"
   ]
  },
  {
   "cell_type": "code",
   "execution_count": null,
   "metadata": {},
   "outputs": [],
   "source": [
    "coefs_formatted"
   ]
  },
  {
   "cell_type": "code",
   "execution_count": null,
   "metadata": {},
   "outputs": [],
   "source": [
    "x[0]"
   ]
  },
  {
   "cell_type": "code",
   "execution_count": null,
   "metadata": {},
   "outputs": [],
   "source": [
    "real_matrix_model.coef_re"
   ]
  }
 ],
 "metadata": {
  "kernelspec": {
   "display_name": "Python 3.10.6 ('env': venv)",
   "language": "python",
   "name": "python3"
  },
  "language_info": {
   "codemirror_mode": {
    "name": "ipython",
    "version": 3
   },
   "file_extension": ".py",
   "mimetype": "text/x-python",
   "name": "python",
   "nbconvert_exporter": "python",
   "pygments_lexer": "ipython3",
   "version": "3.10.6"
  },
  "orig_nbformat": 4,
  "vscode": {
   "interpreter": {
    "hash": "256a6a7824ebfe87060d08e281b5ef16372ae45e1f3a938e83610b74f3a0441a"
   }
  }
 },
 "nbformat": 4,
 "nbformat_minor": 2
}
